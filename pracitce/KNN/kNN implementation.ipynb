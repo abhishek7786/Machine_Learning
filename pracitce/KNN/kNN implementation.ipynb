{
 "cells": [
  {
   "cell_type": "code",
   "execution_count": 5,
   "metadata": {},
   "outputs": [],
   "source": [
    "from collections import Counter\n",
    "from sklearn.metrics import accuracy_score\n",
    "from sklearn import datasets\n",
    "from sklearn.model_selection import train_test_split"
   ]
  },
  {
   "cell_type": "code",
   "execution_count": 39,
   "metadata": {},
   "outputs": [],
   "source": [
    "dataset = datasets.load_breast_cancer()\n",
    "x_train,x_test,y_train,y_test = train_test_split(dataset.data,dataset.target,test_size = 0.2, random_state=0)"
   ]
  },
  {
   "cell_type": "code",
   "execution_count": 21,
   "metadata": {},
   "outputs": [],
   "source": [
    "def find_the_class(dist,k):\n",
    "    return Counter(dist).most_common(1)[0][0]"
   ]
  },
  {
   "cell_type": "code",
   "execution_count": 45,
   "metadata": {},
   "outputs": [],
   "source": [
    "def single_point_distance(x_train,y_train,x_test,k):\n",
    "    dist_with_index= []\n",
    "    for i in range(len(x_train)):\n",
    "        dist= ((x_train[i,:] - x_test)**2).sum()\n",
    "        dist_with_index.append([dist,i])\n",
    "    \n",
    "    #sorting to find first k\n",
    "    dist_with_index=sorted(dist_with_index)\n",
    "    \n",
    "    #finding the first k point's class\n",
    "   \n",
    "    target = []\n",
    "    #target will hold allthe first k classes\n",
    "    \n",
    "    for i in range(k):\n",
    "        index_of_k_points = dist_with_index[i][1]\n",
    "        target.append(y_train[index_of_k_points])\n",
    "    #print(target)\n",
    "    return find_the_class(target,k)"
   ]
  },
  {
   "cell_type": "code",
   "execution_count": 48,
   "metadata": {},
   "outputs": [],
   "source": [
    "def predict(x_train,y_train,x_test,k):\n",
    "    y_predict = []\n",
    "    for x in x_test:\n",
    "        y_predict.append(single_point_distance(x_train,y_train,x,k))\n",
    "    return y_predict\n",
    "    #print(y_predict)"
   ]
  },
  {
   "cell_type": "code",
   "execution_count": 50,
   "metadata": {},
   "outputs": [
    {
     "data": {
      "text/plain": [
       "0.9473684210526315"
      ]
     },
     "execution_count": 50,
     "metadata": {},
     "output_type": "execute_result"
    }
   ],
   "source": [
    "y_predict= predict(x_train,y_train,x_test,7)\n",
    "#y_train.shape\n",
    "accuracy_score(y_predict,y_test)"
   ]
  }
 ],
 "metadata": {
  "kernelspec": {
   "display_name": "Python 3",
   "language": "python",
   "name": "python3"
  },
  "language_info": {
   "codemirror_mode": {
    "name": "ipython",
    "version": 3
   },
   "file_extension": ".py",
   "mimetype": "text/x-python",
   "name": "python",
   "nbconvert_exporter": "python",
   "pygments_lexer": "ipython3",
   "version": "3.6.5"
  }
 },
 "nbformat": 4,
 "nbformat_minor": 2
}
